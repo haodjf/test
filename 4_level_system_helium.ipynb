{
 "cells": [
  {
   "cell_type": "code",
   "execution_count": 1,
   "id": "e5249729",
   "metadata": {},
   "outputs": [
    {
     "name": "stdout",
     "output_type": "stream",
     "text": [
      "Populating the interactive namespace from numpy and matplotlib\n"
     ]
    }
   ],
   "source": [
    "%pylab inline\n",
    "%config InlineBackend.figure_formats = {'svg',}\n",
    "import seaborn as sns\n",
    "flatui = [\"#9b59b6\", \"#3498db\", \"#95a5a6\", \"#e74c3c\", \"#34495e\", \"#2ecc71\"]\n",
    "# rc('axes', prop_cycle=cycler('color', flatui))\n",
    "# sns.palplot(sns.color_palette(flatui))\n",
    "sns.set(palette=flatui)\n",
    "rc('svg', fonttype='none')\n",
    "from qutip import *\n",
    "from fractions import Fraction\n",
    "from IPython.display import Markdown"
   ]
  },
  {
   "cell_type": "code",
   "execution_count": 27,
   "id": "f0a0bf62",
   "metadata": {},
   "outputs": [],
   "source": [
    "def solve4lme(args):\n",
    "    #Define atomic states |1>, |2>, |3>, |4>\n",
    "    st1, st2, st3, st4 = map(lambda st: basis(4, st), range(4))\n",
    "    \n",
    "    #Operators for the off-diagonal elements of Hamiltonian\n",
    "    #Interaction Hamiltonian |1>↔|2> and |2>↔|3>\n",
    "    #Decay modes(collapse operators)for |2>→|1>, |3>→|2>, |3>→|4>\n",
    "    sig12 = st1 * st2.dag()  # |1><2|\n",
    "    sig23 = st2 * st3.dag()  # |2><3|\n",
    "    sig34 = st3 * st4.dag()  # |3><4|\n",
    "    \n",
    "    #Define time dependent collapse operators\n",
    "    #collapse opertor for 2->1,sqrt(Π21*Γ2) * |2><1|\n",
    "    C1 = np.sqrt(args['cbr1'] * args['gamma2']) * sig12\n",
    "     # collapse operator for 3->2, sqrt(Π32*Γ3) * |2><3|\n",
    "    C2 = np.sqrt(args['cbr2'] * args['gamma3']) * sig23\n",
    "    # collapse operator for 3->4, sqrt(Π34*Γ3) * |3><4|\n",
    "    C3 = np.sqrt(args['cbr3'] * args['gamma3']) * sig34\n",
    "    \n",
    "    # Define list of collapse operators\n",
    "    c_op_list = [C1, C2, C3]\n",
    "    \n",
    "    #Define time vector\n",
    "    t = linspace(-arg['tint']*2,arg['tint']*2,101)\n",
    "    \n",
    "    #Set up the time independent system Hamiltonians\n",
    "    #ε1=0, ε2 = w12, ε3=w12+w23, ε4=-w34.\n",
    "    HS1 = 0\n",
    "    HS2 = (-args['w12']-args['delta1']) * sig22\n",
    "    HS3 = (-args['w12']-args['w23']-args['delta2']) * sig33\n",
    "    HS4 = (-args['w12']-args['w23']+args['w34']) * sig44\n",
    "    \n",
    "    #Set up operators for the time varying Hamiltonians\n",
    "    #for laser-atom interaction Ω12(t) and Ω23(t)\n",
    "    HI1 = sig12.dag() + sig12\n",
    "    HI2 = sig23.dag() + sig23\n",
    "    \n",
    "    #Set up the time varying RWA Hamiltonians with time dependent\n",
    "    #coefficients based on QuTip Cython string function format\n",
    "    HRWA = [HS1,HS2,HS3,HS4,\n",
    "           [HI1,'hcf12 * exp(-2*(t/tint) **2)'],\n",
    "           [HI2,'hcf23 * exp(-2*(t/tint) **2)']]\n",
    "    \n",
    "    #Define the initial state as state \\1>\n",
    "    psi0 = st1\n",
    "    \n",
    "    #Define ODE solver options\n",
    "    opts = Odeoptions()\n",
    "    opts.nsteps = args['nsteps']\n",
    "    \n",
    "    # Convert Cython string function variable values to numpy.float32\n",
    "    args['hcf12'] = np.float32(arg['hcf12'])\n",
    "    args['hcf23'] = np.float32(arg['hcf23'])\n",
    "    \n",
    "    #Solve the RWA Hamiltonian\n",
    "    output = mesolve(HRWA,psi0,t,c_op_list,[sig11,sig22,sig33,sig44],\n",
    "                    args=args,options=opts,progress_bar=True)\n",
    "    \n",
    "    return output\n",
    "    "
   ]
  },
  {
   "cell_type": "code",
   "execution_count": 28,
   "id": "b4ac03a6",
   "metadata": {},
   "outputs": [],
   "source": [
    "def plot4lme(atomdata,results=None,saveplot=None):\n",
    "    '''Plot QuTiP Result object '''\n",
    "    \n",
    "    if results != None:\n",
    "        rs = results\n",
    "    else:\n",
    "        rs = qload(atomdata.filename)\n",
    "        \n",
    "    rho11, rho22, rho33 ,rho44 = rs.expect\n",
    "    timescale = 1e6\n",
    "    t = rs.times * timescale\n",
    "    \n",
    "    #Define pump strength as a function of time for plotting\n",
    "    wp = lambda t,tw,A: A * np.exp(-2*(t/tw) **2)\n",
    "    \n",
    "    # Plot the results\n",
    "    fig = figure()\n",
    "    subplot(211)\n",
    "    if atomdata != None:\n",
    "        # colors #a6cee3 #2078b4 #afdd8a #35a12e #fa9897 #e31a1c\n",
    "        detuning = atomdata.delta\n",
    "        detuning_MHz = detuning/(timescale * 2*pi)\n",
    "        detuning_MHz_str = str(round(detuning_MHz,2))\n",
    "        fig.suptitle(atomdata.symbol + ',$τ_{int} = %s$(s),'% str(atomdata.tint) \\\n",
    "                    +'$Δ = &s$(MHz)'%detuning_MHz_str)\n",
    "        \n",
    "        ored_sat_24MHz = atomdata.osat / (timescale * 2 * pi *np.sqrt(atomdata.st24))\n",
    "        ored_sat_24MHz_str = str(round(ored_sat_24MHz,2))\n",
    "        axhline(y = ored_sat_24_MHz,color='#a6cee3',\n",
    "                label = '$Ω_{red,sat,24}≈ %s$ MHz'% ored_sat_24_MHz_str)\n",
    "        \n",
    "        ored_cr_MHz = atomdata.__class__(atomdata.tint).ocr /(timescale * 2 * pi)\n",
    "        \n",
    "        ores_cr_MHz_str = str(round(ored_cr_MHz,2))\n",
    "        axhline(y=ored_cr_MHz,color='#afdd8a',\n",
    "               label='$Ω_{red,cr} ≈ %s$ MHz' % ored_cr_MHz_str)\n",
    "        \n",
    "        ored_cr_pop_99_MHz = atomdata.__class__(atomdata.tint,pop=99).ocr \\\n",
    "                            /(timescale * 2 *pi) \n",
    "        ored_cr_pop_99_MHz_str = str(round(ored_cr_pop_99MHz,2))\n",
    "        axhine(y = ored_cr_pop_99MHz,color='fa9897',\n",
    "              label='$Ω_{red,cr}|_{pop=99} ≈ %s$ MHz' % ored_cr_pop_99_MHz_str)\n",
    "        \n",
    "    plot(t, wp(t, atomdata.tint * timescale,\n",
    "               atomdata.hcf23 * 2 / (timescale * 2*pi)), '-', label='$Ω_{23}$')\n",
    "    plot(t, wp(t, atomdata.tint * timescale,\n",
    "               atomdata.hcf24 * 2 / (timescale * 2*pi)), '-', label='$Ω_{24}$')\n",
    "    ylabel('Coupling strength $Ω$ (MHz)')\n",
    "    lg_1 = legend()\n",
    "    lg_1.draw_frame(True)\n",
    "    \n",
    "    subplot(212)\n",
    "    plot(t, rho11, '-', label='$ρ_{1,1}$')\n",
    "    plot(t, rho22, '-', label='$ρ_{2,2}$')\n",
    "    plot(t, rho33, '-', label='$ρ_{3,3}$')\n",
    "    plot(t, rho44, '-', label='$ρ_{4,4}$')\n",
    "    ylabel('Population $ρ$ (rel. units)')\n",
    "    xlabel('Time ($\\mu s$)')\n",
    "    lg_2 = legend()\n",
    "    lg_2.draw_frame(True)\n",
    "    # check if filename for exporting figure is provided\n",
    "    if saveplot != None:\n",
    "        savefig(saveplot)\n",
    "    show()\n",
    "    \n",
    "   \n",
    "        \n",
    "        \n",
    "    \n"
   ]
  },
  {
   "cell_type": "code",
   "execution_count": null,
   "id": "cd7a890d",
   "metadata": {},
   "outputs": [],
   "source": [
    "class AtomData4Levels:\n",
    "    '''Setup parameters for 4-level system RWA Hamiltonian'''\n",
    "   "
   ]
  },
  {
   "cell_type": "code",
   "execution_count": null,
   "id": "aaf31b68",
   "metadata": {},
   "outputs": [],
   "source": [
    "class Hedata:\n",
    "    symbol = 'He'\n",
    "    nspin = Fraction(1，2)#nuclear spin\n",
    "    "
   ]
  },
  {
   "cell_type": "code",
   "execution_count": 12,
   "id": "601442ab",
   "metadata": {},
   "outputs": [
    {
     "name": "stdout",
     "output_type": "stream",
     "text": [
      "Quantum object: dims = [[4], [4]], shape = (4, 4), type = oper, isherm = False\n",
      "Qobj data =\n",
      "[[0. 1. 0. 0.]\n",
      " [0. 0. 0. 0.]\n",
      " [0. 0. 0. 0.]\n",
      " [0. 0. 0. 0.]]\n"
     ]
    }
   ],
   "source": [
    "st1, st2, st3, st4 = map(lambda st: basis(4, st), range(4))\n",
    "print(st1 * st2.dag())"
   ]
  },
  {
   "cell_type": "markdown",
   "id": "a8147ad3",
   "metadata": {},
   "source": [
    "### 练习qutip\n"
   ]
  },
  {
   "cell_type": "code",
   "execution_count": 1,
   "id": "f62d5ad8",
   "metadata": {},
   "outputs": [],
   "source": [
    "from qutip import*\n",
    "import numpy as np\n",
    "import matplotlib.pyplot as plt"
   ]
  },
  {
   "cell_type": "code",
   "execution_count": 85,
   "id": "d64b22a3",
   "metadata": {},
   "outputs": [
    {
     "data": {
      "image/png": "[encoded data removed]",
      "text/plain": [
       "<Figure size 432x288 with 1 Axes>"
      ]
     },
     "metadata": {
      "needs_background": "light"
     },
     "output_type": "display_data"
    }
   ],
   "source": [
    "w = 1.0\n",
    "kappa = 0.1\n",
    "a = destroy(10)\n",
    "rho = fock_dm(10,5)\n",
    "H = w * a.dag() * a\n",
    "\n",
    "c_ops = [np.sqrt(kappa) * a]\n",
    "tlist = np.linspace(0,50,100)\n",
    "\n",
    "result = mesolve(H,rho,tlist,c_ops,[a.dag() * a])\n",
    "\n",
    "\n",
    "\n",
    "fig, axes = plt.subplots(1,1)\n",
    "axes.plot(tlist, result.expect[0])\n",
    "axes.set_xlabel(r'$t$', fontsize=20)\n",
    "axes.set_ylabel(r\"Photon number\", fontsize=16);\n",
    "plt.show()"
   ]
  },
  {
   "cell_type": "code",
   "execution_count": 63,
   "id": "6864108b",
   "metadata": {},
   "outputs": [
    {
     "data": {
      "text/latex": [
       "Quantum object: dims = [[10], [10]], shape = (10, 10), type = oper, isherm = True\\begin{equation*}\\left(\\begin{array}{*{11}c}0.0 & 0.0 & 0.0 & 0.0 & 0.0 & 0.0 & 0.0 & 0.0 & 0.0 & 0.0\\\\0.0 & 0.022 & 0.0 & 0.0 & 0.0 & 0.0 & 0.0 & 0.0 & 0.0 & 0.0\\\\0.0 & 0.0 & 0.044 & 0.0 & 0.0 & 0.0 & 0.0 & 0.0 & 0.0 & 0.0\\\\0.0 & 0.0 & 0.0 & 0.067 & 0.0 & 0.0 & 0.0 & 0.0 & 0.0 & 0.0\\\\0.0 & 0.0 & 0.0 & 0.0 & 0.089 & 0.0 & 0.0 & 0.0 & 0.0 & 0.0\\\\0.0 & 0.0 & 0.0 & 0.0 & 0.0 & 0.111 & 0.0 & 0.0 & 0.0 & 0.0\\\\0.0 & 0.0 & 0.0 & 0.0 & 0.0 & 0.0 & 0.133 & 0.0 & 0.0 & 0.0\\\\0.0 & 0.0 & 0.0 & 0.0 & 0.0 & 0.0 & 0.0 & 0.156 & 0.0 & 0.0\\\\0.0 & 0.0 & 0.0 & 0.0 & 0.0 & 0.0 & 0.0 & 0.0 & 0.178 & 0.0\\\\0.0 & 0.0 & 0.0 & 0.0 & 0.0 & 0.0 & 0.0 & 0.0 & 0.0 & 0.200\\\\\\end{array}\\right)\\end{equation*}"
      ],
      "text/plain": [
       "Quantum object: dims = [[10], [10]], shape = (10, 10), type = oper, isherm = True\n",
       "Qobj data =\n",
       "[[0.         0.         0.         0.         0.         0.\n",
       "  0.         0.         0.         0.        ]\n",
       " [0.         0.02222222 0.         0.         0.         0.\n",
       "  0.         0.         0.         0.        ]\n",
       " [0.         0.         0.04444444 0.         0.         0.\n",
       "  0.         0.         0.         0.        ]\n",
       " [0.         0.         0.         0.06666667 0.         0.\n",
       "  0.         0.         0.         0.        ]\n",
       " [0.         0.         0.         0.         0.08888889 0.\n",
       "  0.         0.         0.         0.        ]\n",
       " [0.         0.         0.         0.         0.         0.11111111\n",
       "  0.         0.         0.         0.        ]\n",
       " [0.         0.         0.         0.         0.         0.\n",
       "  0.13333333 0.         0.         0.        ]\n",
       " [0.         0.         0.         0.         0.         0.\n",
       "  0.         0.15555556 0.         0.        ]\n",
       " [0.         0.         0.         0.         0.         0.\n",
       "  0.         0.         0.17777778 0.        ]\n",
       " [0.         0.         0.         0.         0.         0.\n",
       "  0.         0.         0.         0.2       ]]"
      ]
     },
     "execution_count": 63,
     "metadata": {},
     "output_type": "execute_result"
    }
   ],
   "source": [
    "(a.dag() *a).unit()"
   ]
  },
  {
   "cell_type": "markdown",
   "id": "51c1d985",
   "metadata": {},
   "source": [
    "### J-C Function\n",
    "考虑一个组合系统在开放系统中的演化过程。量子哈密顿量 ( $J C$ model) 为:\n",
    "$H_{\\mathrm{RWA}}=\\hbar \\omega_c a^{\\dagger} a+\\frac{1}{2} \\hbar \\omega_a \\sigma_z+\\hbar g\\left(a^{\\dagger} \\sigma_{-}+a \\sigma_{+}\\right)$\n",
    "初始态为: $\\left|\\psi_0\\right\\rangle=|0\\rangle_c \\otimes|1\\rangle_a$. 注意这里两者存在的系统不同， 代表简谐腔，而a代表构建自旋 量子比特a，为二能级系统。耗散部分分为三部分: (1) 外界热环境导致的光子损失为 $\\sqrt{\\kappa\\left(1+n_{\\mathrm{th}}\\right)} a ，(2)$ 热环境向谐振腔内产生的光子，为 $\\sqrt{\\kappa n_{\\mathrm{th}}} a^{\\dagger} ，(3)$ 原子系统退化率: $\\sqrt{\\gamma} \\sigma_{-}$。Qutip程序为:\n",
    "https://www.zhihu.com/search?type=content&q=qutip"
   ]
  },
  {
   "cell_type": "code",
   "execution_count": 93,
   "id": "a73b6d99",
   "metadata": {},
   "outputs": [
    {
     "data": {
      "image/png": "[encoded data removed]",
      "text/plain": [
       "<Figure size 432x288 with 1 Axes>"
      ]
     },
     "metadata": {
      "needs_background": "light"
     },
     "output_type": "display_data"
    }
   ],
   "source": [
    "\n",
    "\n",
    "N = 5 # number of cavity states\n",
    "omega0 = epsilon = 2 * np.pi # frequencies\n",
    "g = 0.05 * 2 * np.pi # coupling strength\n",
    "kappa = 0.005 # cavity relaxation rate\n",
    "gamma = 0.05 # atom relaxation rate\n",
    "n_th = 0.75 # bath temperature\n",
    "\n",
    "## Hamiltonian and initial state ##\n",
    "# destroy() is 湮灭算符，qeye是单位算符\n",
    "\n",
    "a = tensor(destroy(N), qeye(2))\n",
    "\n",
    "# sm denotes sigma_minus\n",
    "sm = tensor(qeye(N), destroy(2))\n",
    "sz = tensor(qeye(N), sigmaz())\n",
    "H = omega0 * a.dag() * a + 0.5 * epsilon * sz + g * (a.dag() * sm + a * sm.dag())\n",
    "\n",
    "psi0 = tensor(fock(N,0), fock(2,1)) # excited atom\n",
    "\n",
    "## Collapse operators ##\n",
    "c_ops = []\n",
    "c_ops.append(np.sqrt(kappa * (1+n_th)) * a)\n",
    "c_ops.append(np.sqrt(kappa * n_th) * a.dag())\n",
    "c_ops.append(np.sqrt(gamma) * sm)\n",
    "## Operator list for expectation values ##\n",
    "expt_ops = [a.dag() * a, sm.dag() * sm]\n",
    "\n",
    "## Evolution of the system ##\n",
    "tlist = np.linspace(0, 50, 100)\n",
    "expt_data = mesolve(H, psi0, tlist, c_ops, expt_ops)\n",
    "\n",
    "fig,axes = plt.subplots(1,1)\n",
    "axes.plot(tlist,expt_data.expect[0],label = r'$\\langle \\hat{n} = a^\\dag a \\rangle$')\n",
    "axes.plot(tlist,expt_data.expect[1],label = r'$\\langle\\sigma_{+}\\sigma_{-}\\rangle$')\n",
    "axes.set_xlabel(r'$t$',fontsize = 20)\n",
    "axes.set_ylabel(\"Expecation Value\")\n",
    "axes.legend(loc=1)\n",
    "plt.show()"
   ]
  },
  {
   "cell_type": "code",
   "execution_count": 106,
   "id": "463c7b88",
   "metadata": {},
   "outputs": [
    {
     "ename": "NameError",
     "evalue": "name 'creator' is not defined",
     "output_type": "error",
     "traceback": [
      "\u001b[1;31m---------------------------------------------------------------------------\u001b[0m",
      "\u001b[1;31mNameError\u001b[0m                                 Traceback (most recent call last)",
      "\u001b[1;32m~\\AppData\\Local\\Temp/ipykernel_16056/144904320.py\u001b[0m in \u001b[0;36m<module>\u001b[1;34m\u001b[0m\n\u001b[0;32m      1\u001b[0m \u001b[0ma\u001b[0m \u001b[1;33m=\u001b[0m \u001b[0mdestroy\u001b[0m\u001b[1;33m(\u001b[0m\u001b[1;36m5\u001b[0m\u001b[1;33m)\u001b[0m\u001b[1;33m\u001b[0m\u001b[1;33m\u001b[0m\u001b[0m\n\u001b[1;32m----> 2\u001b[1;33m \u001b[0ma\u001b[0m \u001b[1;33m=\u001b[0m \u001b[0mcreator\u001b[0m\u001b[1;33m(\u001b[0m\u001b[1;36m4\u001b[0m\u001b[1;33m)\u001b[0m\u001b[1;33m\u001b[0m\u001b[1;33m\u001b[0m\u001b[0m\n\u001b[0m",
      "\u001b[1;31mNameError\u001b[0m: name 'creator' is not defined"
     ]
    }
   ],
   "source": [
    "a = destroy(5)\n",
    "a = creator(4)"
   ]
  },
  {
   "cell_type": "code",
   "execution_count": 102,
   "id": "c0791220",
   "metadata": {},
   "outputs": [
    {
     "ename": "AttributeError",
     "evalue": "'function' object has no attribute 'dag'",
     "output_type": "error",
     "traceback": [
      "\u001b[1;31m---------------------------------------------------------------------------\u001b[0m",
      "\u001b[1;31mAttributeError\u001b[0m                            Traceback (most recent call last)",
      "\u001b[1;32m~\\AppData\\Local\\Temp/ipykernel_16056/749043130.py\u001b[0m in \u001b[0;36m<module>\u001b[1;34m\u001b[0m\n\u001b[1;32m----> 1\u001b[1;33m \u001b[0mdestroy\u001b[0m\u001b[1;33m.\u001b[0m\u001b[0mdag\u001b[0m\u001b[1;33m(\u001b[0m\u001b[1;36m10\u001b[0m\u001b[1;33m)\u001b[0m\u001b[1;33m\u001b[0m\u001b[1;33m\u001b[0m\u001b[0m\n\u001b[0m",
      "\u001b[1;31mAttributeError\u001b[0m: 'function' object has no attribute 'dag'"
     ]
    }
   ],
   "source": []
  },
  {
   "cell_type": "code",
   "execution_count": null,
   "id": "11d07211",
   "metadata": {},
   "outputs": [],
   "source": []
  }
 ],
 "metadata": {
  "kernelspec": {
   "display_name": "Python 3 (ipykernel)",
   "language": "python",
   "name": "python3"
  },
  "language_info": {
   "codemirror_mode": {
    "name": "ipython",
    "version": 3
   },
   "file_extension": ".py",
   "mimetype": "text/x-python",
   "name": "python",
   "nbconvert_exporter": "python",
   "pygments_lexer": "ipython3",
   "version": "3.9.7"
  }
 },
 "nbformat": 4,
 "nbformat_minor": 5
}
